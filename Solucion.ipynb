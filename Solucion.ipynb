{
 "cells": [
  {
   "cell_type": "code",
   "execution_count": 1,
   "id": "0541ed9a-28c7-4021-9282-f6bb8f4d63eb",
   "metadata": {
    "tags": []
   },
   "outputs": [
    {
     "name": "stdout",
     "output_type": "stream",
     "text": [
      "Traceback \u001b[1;36m(most recent call last)\u001b[0m:\n",
      "\u001b[1;36m  Cell \u001b[1;32mIn[1], line 4\u001b[1;36m\n",
      "\u001b[1;33m    from qiskit.aqua.algorithms import VQE, NumPyMinimumEigensolver\u001b[1;36m\n",
      "\u001b[1;31mModuleNotFoundError\u001b[0m\u001b[1;31m:\u001b[0m No module named 'qiskit.aqua'\n",
      "\n",
      "Use %tb to get the full traceback.\n"
     ]
    },
    {
     "data": {
      "text/html": [
       "\n",
       "<style>\n",
       ".button {\n",
       "  border: none;\n",
       "  color: white;\n",
       "  padding: 4px 8px;\n",
       "  text-align: center;\n",
       "  text-decoration: none;\n",
       "  display: inline-block;\n",
       "  font-size: 12px;\n",
       "  margin: 4px 2px;\n",
       "  transition-duration: 0.2s;\n",
       "  cursor: pointer;\n",
       "}\n",
       ".iqx-button {\n",
       "  background-color: #0f62fe; \n",
       "  color: white; \n",
       "}\n",
       ".iqx-button:hover {\n",
       "  background-color: #0043ce;\n",
       "  color: white;\n",
       "}\n",
       "</style>\n",
       "<a href=\"https://stackoverflow.com/search?q=ModuleNotFoundError: No module named 'qiskit.aqua'\" target='_blank'><button class='button iqx-button'>Search for solution online</button></a>\n"
      ],
      "text/plain": [
       "<IPython.core.display.HTML object>"
      ]
     },
     "metadata": {},
     "output_type": "display_data"
    }
   ],
   "source": [
    "import numpy as np\n",
    "from qiskit import QuantumCircuit, Aer, transpile, assemble\n",
    "from qiskit.visualization import plot_histogram\n",
    "from qiskit.aqua.algorithms import VQE, NumPyMinimumEigensolver\n",
    "from qiskit.aqua.operators import WeightedPauliOperator\n",
    "from qiskit.optimization.applications.ising import max_cut\n",
    "from qiskit.aqua.components.optimizers import COBYLA\n",
    "\n",
    "# Parámetros de tu problema de optimización\n",
    "from qiskit import QuantumCircuit\n",
    "from qiskit.circuit import Parameter\n",
    "\n",
    "def ansatz_circuit(params):\n",
    "    num_locations = 4\n",
    "    num_trucks = 2\n",
    "\n",
    "    # Crear un circuito cuántico\n",
    "    circuit = QuantumCircuit(num_locations + num_trucks)\n",
    "\n",
    "    # Parámetros de rotación para ajustar la función de onda\n",
    "    # Aquí, usamos los parámetros theta para definir las rotaciones\n",
    "    theta_params = [Parameter(f'theta_{i}') for i in range(len(params))]\n",
    "\n",
    "    # Aplicar compuertas de rotación X controladas por los parámetros\n",
    "    for i in range(num_locations):\n",
    "        circuit.rx(theta_params[i], i)\n",
    "\n",
    "    # Aplicar compuertas de rotación Y controladas por los parámetros\n",
    "    for i in range(num_locations, num_locations + num_trucks):\n",
    "        circuit.ry(theta_params[i], i)\n",
    "\n",
    "    # Entrelazar los qubits de camiones y ubicaciones según las restricciones\n",
    "\n",
    "    # Devuelve el circuito\n",
    "    return circuit\n",
    "\n",
    "\n",
    "# Construye un operador de Pauli ponderado basado en la función objetivo.\n",
    "# Por ejemplo, puedes usar max_cut para problemas de corte máximo.\n",
    "operator, offset = max_cut.get_operator(my_cost_matrix)\n",
    "\n",
    "# Ahora, construye un circuito cuántico\n",
    "num_qubits = operator.num_qubits\n",
    "circuit = QuantumCircuit(num_qubits)\n",
    "\n",
    "# La función de onda ansatz.\n",
    "from qiskit import QuantumCircuit\n",
    "from qiskit.circuit import Parameter\n",
    "\n",
    "def ansatz_circuit(params):\n",
    "    num_locations = 4\n",
    "    num_trucks = 2\n",
    "\n",
    "    # Crear un circuito cuántico\n",
    "    circuit = QuantumCircuit(num_locations + num_trucks)\n",
    "\n",
    "    # Parámetros de rotación para ajustar la función de onda\n",
    "    # Aquí, usamos los parámetros theta para definir las rotaciones\n",
    "    theta_params = [Parameter(f'theta_{i}') for i in range(len(params))]\n",
    "\n",
    "    # Aplicar compuertas de rotación X controladas por los parámetros\n",
    "    for i in range(num_locations):\n",
    "        circuit.rx(theta_params[i], i)\n",
    "\n",
    "    # Aplicar compuertas de rotación Y controladas por los parámetros\n",
    "    for i in range(num_locations, num_locations + num_trucks):\n",
    "        circuit.ry(theta_params[i], i)\n",
    "\n",
    "    # Entrelazar los qubits de camiones y ubicaciones según las restricciones\n",
    "\n",
    "    # Devuelve el circuito\n",
    "    return circuit\n",
    "\n",
    "# Configura y ejecuta el algoritmo de optimización cuántica (por ejemplo, VQE).\n",
    "optimizer = COBYLA(maxiter=100)\n",
    "algo = VQE(operator, optimizer)\n",
    "result = algo.compute_minimum_eigenvalue()\n",
    "\n",
    "# Imprime los resultados\n",
    "print(\"Energía mínima:\", result.eigenvalue.real + offset)\n",
    "print(\"Solución óptima:\", max_cut.sample_most_likely(result.eigenstate))\n"
   ]
  },
  {
   "cell_type": "code",
   "execution_count": null,
   "id": "b492bd8f-f7bc-4671-b100-39542917cb66",
   "metadata": {},
   "outputs": [],
   "source": []
  }
 ],
 "metadata": {
  "kernelspec": {
   "display_name": "Python 3 (ipykernel)",
   "language": "python",
   "name": "python3"
  },
  "language_info": {
   "codemirror_mode": {
    "name": "ipython",
    "version": 3
   },
   "file_extension": ".py",
   "mimetype": "text/x-python",
   "name": "python",
   "nbconvert_exporter": "python",
   "pygments_lexer": "ipython3",
   "version": "3.10.8"
  },
  "widgets": {
   "application/vnd.jupyter.widget-state+json": {
    "state": {},
    "version_major": 2,
    "version_minor": 0
   }
  }
 },
 "nbformat": 4,
 "nbformat_minor": 5
}
